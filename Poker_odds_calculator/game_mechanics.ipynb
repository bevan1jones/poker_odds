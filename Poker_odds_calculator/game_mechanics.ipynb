{
 "cells": [
  {
   "cell_type": "code",
   "execution_count": 1664,
   "id": "022ce566-10bd-4675-addf-08fd6dbefb0f",
   "metadata": {},
   "outputs": [],
   "source": [
    "import random\n",
    "from collections import defaultdict\n",
    "from itertools import combinations\n",
    "from math import comb"
   ]
  },
  {
   "cell_type": "code",
   "execution_count": 1665,
   "id": "3ab1c4c9-575f-4ef3-8e4f-e22ccd5aa021",
   "metadata": {},
   "outputs": [],
   "source": [
    "class PlayingCard:\n",
    "     def __init__(self,suit,value,deck_number=1):\n",
    "         self.suit = suit\n",
    "         self.value = value"
   ]
  },
  {
   "cell_type": "code",
   "execution_count": 1666,
   "id": "93e7eac4-abf9-4f1f-859d-c1b45edb5964",
   "metadata": {},
   "outputs": [],
   "source": [
    "class Deck:\n",
    "    def __init__(self):\n",
    "        self.cards = [PlayingCard(suit, value) for suit in ['heart', 'spade', 'club', 'diamond'] for value in range(1, 14)]\n",
    "\n",
    "    def shuffle(self):\n",
    "        random.shuffle(self.cards)\n",
    "\n",
    "    def deal_card(self):\n",
    "        if len(self.cards) > 0:\n",
    "            return self.cards.pop()\n",
    "        else:\n",
    "            raise ValueError(\"Deck is empty\")\n",
    "            \n"
   ]
  },
  {
   "cell_type": "code",
   "execution_count": 1667,
   "id": "bb81346d-fd50-4565-9670-f1863c934f26",
   "metadata": {},
   "outputs": [],
   "source": [
    "class Player:\n",
    "    def __init__ (self,player_id):\n",
    "        self.player_id=player_id\n",
    "        self.cards =[]\n",
    "        self.best_hand=[]\n",
    "\n",
    "    def deal_cards(self, deck, num_cards):\n",
    "        for _ in range(num_cards):\n",
    "            self.cards.append(deck.deal_card())\n",
    "\n"
   ]
  },
  {
   "cell_type": "code",
   "execution_count": 1668,
   "id": "e7ff9757-7a37-4905-a0d0-b5aea0751d04",
   "metadata": {},
   "outputs": [],
   "source": []
  },
  {
   "cell_type": "code",
   "execution_count": 1677,
   "id": "6d10a954-0166-4952-8b53-3c0d79041fcf",
   "metadata": {},
   "outputs": [],
   "source": []
  },
  {
   "cell_type": "code",
   "execution_count": 1670,
   "id": "d6b1e95c-9249-44b6-b3a7-5c50715fb771",
   "metadata": {},
   "outputs": [],
   "source": []
  },
  {
   "cell_type": "code",
   "execution_count": 1671,
   "id": "0117926c-2feb-4900-bec8-ba935cfde600",
   "metadata": {},
   "outputs": [
    {
     "name": "stdout",
     "output_type": "stream",
     "text": [
      "Total combinations of turn and river cards: 1081\n"
     ]
    }
   ],
   "source": []
  },
  {
   "cell_type": "code",
   "execution_count": 1672,
   "id": "f659b0e9-38b5-4da4-bab0-5d02d3670165",
   "metadata": {},
   "outputs": [
    {
     "name": "stdout",
     "output_type": "stream",
     "text": [
      "Player 1 cards: (club, 11), (heart, 12)\n",
      "\n",
      "Player 2 cards: (club, 5), (diamond, 5)\n",
      "\n",
      "Player 3 cards: (spade, 5), (spade, 9)\n",
      "\n",
      "Community pot cards: [('diamond', 10), ('spade', 1), ('diamond', 12)] \n",
      "\n",
      "flush count:0, flush odds:0.00% \n",
      "\n",
      "straight flush count:0, straight flush odds:0.00% \n",
      "\n",
      "four of a kind count:1, four of a kind odds:0.09% \n",
      "\n",
      "full house count:27, full house odds:2.50% \n",
      "\n",
      "straight count:194, straight odds:17.95% \n",
      "\n",
      "three of a kind count:100, three of a kind odds:9.25% \n",
      "\n",
      "two pair count:432, two pair odds:39.96% \n",
      "\n",
      "one pair count:1081, one pair odds:100.00% \n",
      "\n"
     ]
    }
   ],
   "source": []
  },
  {
   "cell_type": "code",
   "execution_count": 1673,
   "id": "86626b2b-1a5a-4dc5-a1f7-75bcc9cfcc32",
   "metadata": {},
   "outputs": [],
   "source": []
  },
  {
   "cell_type": "code",
   "execution_count": 1674,
   "id": "593be5f9-d1d9-4660-a366-7076c7acb2fd",
   "metadata": {},
   "outputs": [
    {
     "name": "stdout",
     "output_type": "stream",
     "text": [
      "46\n"
     ]
    }
   ],
   "source": [
    "known_cards = main_player.cards + community_pot\n",
    "\n",
    "unknown_cards = deck.cards + [card for player in players if player.player_id != 1 for card in player.cards]\n",
    "\n",
    "# Calculate the total combinations of turn and river cards\n",
    "total_river_combinations = len(unknown_cards)\n",
    "\n",
    "print(total_river_combinations)\n",
    "\n",
    "flush = Hands(\"flush\")\n",
    "straight_flush= Hands(\"straight flush\")\n",
    "four_of_a_kind= Hands(\"four of a kind\")\n",
    "full_house= Hands(\"full house\")\n",
    "straight= Hands(\"straight\")\n",
    "three_of_a_kind= Hands(\"three of a kind\")\n",
    "two_pair = Hands(\"two pair\")\n",
    "turn_one_pair = Hands(\"one pair\")\n",
    "\n"
   ]
  },
  {
   "cell_type": "code",
   "execution_count": 1676,
   "id": "c9a1bab9-d2c0-4584-b002-9682eb1ac9db",
   "metadata": {},
   "outputs": [
    {
     "name": "stdout",
     "output_type": "stream",
     "text": [
      "Player 1 cards: (club, 11), (heart, 12)\n",
      "\n",
      "Player 2 cards: (club, 5), (diamond, 5)\n",
      "\n",
      "Player 3 cards: (spade, 5), (spade, 9)\n",
      "\n",
      "Community pot cards: [('diamond', 10), ('spade', 1), ('diamond', 12), ('club', 13)] \n",
      "\n",
      "flush count:0, flush odds:0.00% \n",
      "\n",
      "straight flush count:0, straight flush odds:0.00% \n",
      "\n",
      "four of a kind count:0, four of a kind odds:0.00% \n",
      "\n",
      "full house count:0, full house odds:0.00% \n",
      "\n",
      "straight count:46, straight odds:100.00% \n",
      "\n",
      "three of a kind count:2, three of a kind odds:4.35% \n",
      "\n",
      "two pair count:12, two pair odds:26.09% \n",
      "\n",
      "one pair count:46, one pair odds:100.00% \n",
      "\n"
     ]
    }
   ],
   "source": [
    "for player in players:\n",
    "   print(f\"Player {player.player_id} cards: {', '.join([f'({card.suit}, {card.value})' for card in player.cards])}\\n\")\n",
    "\n",
    "# Display the community pot\n",
    "print(\"Community pot cards:\", [(card.suit, card.value) for card in community_pot],\"\\n\")\n",
    "\n",
    "flush.hand_odds(total_river_combinations)\n",
    "straight_flush.hand_odds(total_river_combinations)\n",
    "four_of_a_kind.hand_odds(total_river_combinations)\n",
    "full_house.hand_odds(total_river_combinations)\n",
    "straight.hand_odds(total_river_combinations)\n",
    "three_of_a_kind.hand_odds(total_river_combinations)\n",
    "two_pair.hand_odds(total_river_combinations)\n",
    "turn_one_pair.hand_odds(total_river_combinations)"
   ]
  },
  {
   "cell_type": "code",
   "execution_count": null,
   "id": "878c0e22-2579-4b0a-9eaa-475e12ac4e22",
   "metadata": {},
   "outputs": [],
   "source": []
  },
  {
   "cell_type": "code",
   "execution_count": null,
   "id": "0214cd2c-e5d3-4520-80a5-527f67b58941",
   "metadata": {},
   "outputs": [],
   "source": []
  },
  {
   "cell_type": "code",
   "execution_count": null,
   "id": "15f40012-c588-4e6c-99b5-e84104561d09",
   "metadata": {},
   "outputs": [],
   "source": []
  }
 ],
 "metadata": {
  "kernelspec": {
   "display_name": "Python 3 (ipykernel)",
   "language": "python",
   "name": "python3"
  },
  "language_info": {
   "codemirror_mode": {
    "name": "ipython",
    "version": 3
   },
   "file_extension": ".py",
   "mimetype": "text/x-python",
   "name": "python",
   "nbconvert_exporter": "python",
   "pygments_lexer": "ipython3",
   "version": "3.10.7"
  }
 },
 "nbformat": 4,
 "nbformat_minor": 5
}
