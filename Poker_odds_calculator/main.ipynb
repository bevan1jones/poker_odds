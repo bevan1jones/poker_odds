{
 "cells": [
  {
   "cell_type": "code",
   "execution_count": 2,
   "id": "956426d0-5d5e-476a-8704-50f6e4622a43",
   "metadata": {},
   "outputs": [],
   "source": [
    "import random\n",
    "from collections import defaultdict\n",
    "import itertools\n",
    "from math import comb\n",
    "import game_mechanics\n",
    "import stats_tools"
   ]
  },
  {
   "cell_type": "code",
   "execution_count": 3,
   "id": "12f1b56d-e576-497d-b54e-2bd0e135a690",
   "metadata": {},
   "outputs": [],
   "source": [
    "players = [game_mechanics.Player(i) for i in range(1, 4)]\n",
    "\n",
    "main_player = next(player for player in players if player.player_id == 1)        "
   ]
  },
  {
   "cell_type": "code",
   "execution_count": 4,
   "id": "068df142-bbc9-4c35-906a-1d559b540c3a",
   "metadata": {},
   "outputs": [],
   "source": [
    "deck = game_mechanics.Deck()\n",
    "deck.shuffle()"
   ]
  },
  {
   "cell_type": "code",
   "execution_count": 5,
   "id": "31f060e8-0f11-4553-9141-a5946481d895",
   "metadata": {},
   "outputs": [],
   "source": [
    "num_cards_per_player = 2\n",
    "for player in players:\n",
    "    if len(player.cards) < 2:\n",
    "        player.deal_cards(deck, num_cards_per_player)\n",
    "\n",
    "\n",
    "community_pot = []\n"
   ]
  },
  {
   "cell_type": "code",
   "execution_count": 6,
   "id": "25100322-3124-4c34-b379-beb3f45d5166",
   "metadata": {},
   "outputs": [],
   "source": [
    "flush = stats_tools.Hands(\"flush\")\n",
    "straight_flush= stats_tools.Hands(\"straight flush\")\n",
    "four_of_a_kind= stats_tools.Hands(\"four of a kind\")\n",
    "full_house= stats_tools.Hands(\"full house\")\n",
    "straight= stats_tools.Hands(\"straight\")\n",
    "three_of_a_kind= stats_tools.Hands(\"three of a kind\")\n",
    "two_pair = stats_tools.Hands(\"two pair\")\n",
    "one_pair = stats_tools.Hands(\"one pair\")"
   ]
  },
  {
   "cell_type": "code",
   "execution_count": 7,
   "id": "6f8d62a5-4808-482d-bfd8-888daaefd01a",
   "metadata": {},
   "outputs": [],
   "source": [
    "known_cards = main_player.cards + community_pot\n",
    "\n",
    "unknown_cards = deck.cards + [card for player in players if player.player_id != 1 for card in player.cards]\n",
    "\n",
    "# Calculate the total combinations of turn and river cards\n",
    "total_turn_and_river_combinations = comb(len(unknown_cards), 5)"
   ]
  },
  {
   "cell_type": "code",
   "execution_count": 8,
   "id": "b87fc043-6fbb-4f44-9a90-fe6fcb55c40e",
   "metadata": {},
   "outputs": [],
   "source": [
    "stats_tools.pre_flop_hand_counts(unknown_cards, known_cards,flush, straight_flush, four_of_a_kind, full_house, \n",
    "                                  straight, three_of_a_kind, two_pair, one_pair)"
   ]
  },
  {
   "cell_type": "code",
   "execution_count": 9,
   "id": "ea9eeb17-8de2-4a48-8dcd-4625ea8c2e29",
   "metadata": {},
   "outputs": [
    {
     "name": "stdout",
     "output_type": "stream",
     "text": [
      "Player 1 cards: (club, 11), (heart, 4)\n",
      "\n",
      "Player 2 cards: (heart, 6), (club, 8)\n",
      "\n",
      "Player 3 cards: (diamond, 13), (spade, 13)\n",
      "\n",
      "Community pot cards: [] \n",
      "\n",
      "flush count:41778, flush odds:1.97% \n",
      "\n",
      "straight flush count:392, straight flush odds:0.02% \n",
      "\n",
      "four of a kind count:2668, four of a kind odds:0.13% \n",
      "\n",
      "full house count:47592, full house odds:2.25% \n",
      "\n",
      "straight count:75776, straight odds:3.58% \n",
      "\n",
      "three of a kind count:144832, three of a kind odds:6.84% \n",
      "\n",
      "two pair count:534672, two pair odds:25.24% \n",
      "\n",
      "one pair count:1645672, one pair odds:77.67% \n",
      "\n"
     ]
    }
   ],
   "source": [
    "for player in players:\n",
    "   print(f\"Player {player.player_id} cards: {', '.join([f'({card.suit}, {card.value})' for card in player.cards])}\\n\")\n",
    "\n",
    "# Display the community pot\n",
    "print(\"Community pot cards:\", [(card.suit, card.value) for card in community_pot],\"\\n\")\n",
    "\n",
    "flush.hand_odds(total_turn_and_river_combinations)\n",
    "straight_flush.hand_odds(total_turn_and_river_combinations)\n",
    "four_of_a_kind.hand_odds(total_turn_and_river_combinations)\n",
    "full_house.hand_odds(total_turn_and_river_combinations)\n",
    "straight.hand_odds(total_turn_and_river_combinations)\n",
    "three_of_a_kind.hand_odds(total_turn_and_river_combinations)\n",
    "two_pair.hand_odds(total_turn_and_river_combinations)\n",
    "one_pair.hand_odds(total_turn_and_river_combinations)"
   ]
  },
  {
   "cell_type": "code",
   "execution_count": 10,
   "id": "3dda432a-867f-4f24-a4f5-bb8b74d3ab02",
   "metadata": {},
   "outputs": [],
   "source": [
    "num_flop_cards = 3\n",
    "for _ in range(num_flop_cards):\n",
    "    community_pot.append(deck.deal_card())"
   ]
  },
  {
   "cell_type": "code",
   "execution_count": 11,
   "id": "4ffaa2e9-8879-4b3c-8d39-e7907893d870",
   "metadata": {},
   "outputs": [],
   "source": [
    "flush = stats_tools.Hands(\"flush\")\n",
    "straight_flush= stats_tools.Hands(\"straight flush\")\n",
    "four_of_a_kind= stats_tools.Hands(\"four of a kind\")\n",
    "full_house= stats_tools.Hands(\"full house\")\n",
    "straight= stats_tools.Hands(\"straight\")\n",
    "three_of_a_kind= stats_tools.Hands(\"three of a kind\")\n",
    "two_pair = stats_tools.Hands(\"two pair\")\n",
    "one_pair = stats_tools.Hands(\"one pair\")"
   ]
  },
  {
   "cell_type": "code",
   "execution_count": 12,
   "id": "b7942c2a-3204-4f23-9171-090b984ec180",
   "metadata": {},
   "outputs": [],
   "source": [
    "known_cards = main_player.cards + community_pot\n",
    "\n",
    "unknown_cards = deck.cards + [card for player in players if player.player_id != 1 for card in player.cards]\n",
    "\n",
    "# Calculate the total combinations of turn and river cards\n",
    "total_turn_and_river_combinations = comb(len(unknown_cards), 2)"
   ]
  },
  {
   "cell_type": "code",
   "execution_count": 13,
   "id": "2e4c0b9c-8b21-4346-81e3-d27d35f9d198",
   "metadata": {},
   "outputs": [],
   "source": [
    "stats_tools.post_flop_hand_counts(unknown_cards, known_cards,flush, straight_flush, four_of_a_kind, full_house, \n",
    "                                  straight, three_of_a_kind, two_pair, one_pair)"
   ]
  },
  {
   "cell_type": "code",
   "execution_count": 14,
   "id": "b1073a7d-8da2-4708-934b-011aac5ae667",
   "metadata": {},
   "outputs": [
    {
     "name": "stdout",
     "output_type": "stream",
     "text": [
      "Player 1 cards: (club, 11), (heart, 4)\n",
      "\n",
      "Player 2 cards: (heart, 6), (club, 8)\n",
      "\n",
      "Player 3 cards: (diamond, 13), (spade, 13)\n",
      "\n",
      "Community pot cards: [('club', 10), ('diamond', 3), ('club', 2)] \n",
      "\n",
      "flush count:45, flush odds:4.16% \n",
      "\n",
      "straight flush count:0, straight flush odds:0.00% \n",
      "\n",
      "four of a kind count:0, four of a kind odds:0.00% \n",
      "\n",
      "full house count:0, full house odds:0.00% \n",
      "\n",
      "straight count:32, straight odds:2.96% \n",
      "\n",
      "three of a kind count:15, three of a kind odds:1.39% \n",
      "\n",
      "two pair count:90, two pair odds:8.33% \n",
      "\n",
      "one pair count:633, one pair odds:58.56% \n",
      "\n"
     ]
    }
   ],
   "source": [
    "for player in players:\n",
    "   print(f\"Player {player.player_id} cards: {', '.join([f'({card.suit}, {card.value})' for card in player.cards])}\\n\")\n",
    "\n",
    "# Display the community pot\n",
    "print(\"Community pot cards:\", [(card.suit, card.value) for card in community_pot],\"\\n\")\n",
    "\n",
    "flush.hand_odds(total_turn_and_river_combinations)\n",
    "straight_flush.hand_odds(total_turn_and_river_combinations)\n",
    "four_of_a_kind.hand_odds(total_turn_and_river_combinations)\n",
    "full_house.hand_odds(total_turn_and_river_combinations)\n",
    "straight.hand_odds(total_turn_and_river_combinations)\n",
    "three_of_a_kind.hand_odds(total_turn_and_river_combinations)\n",
    "two_pair.hand_odds(total_turn_and_river_combinations)\n",
    "one_pair.hand_odds(total_turn_and_river_combinations)"
   ]
  },
  {
   "cell_type": "code",
   "execution_count": 15,
   "id": "bda9aa98-de22-4a10-a835-f180b68fd5f9",
   "metadata": {},
   "outputs": [],
   "source": [
    "num_turn_cards = 1\n",
    "if len(community_pot) < 4:\n",
    "    for _ in range(num_turn_cards):\n",
    "        community_pot.append(deck.deal_card())"
   ]
  },
  {
   "cell_type": "code",
   "execution_count": 16,
   "id": "75b28493-84b8-4c29-bba7-f3cc591bcc35",
   "metadata": {},
   "outputs": [],
   "source": [
    "flush = stats_tools.Hands(\"flush\")\n",
    "straight_flush= stats_tools.Hands(\"straight flush\")\n",
    "four_of_a_kind= stats_tools.Hands(\"four of a kind\")\n",
    "full_house= stats_tools.Hands(\"full house\")\n",
    "straight= stats_tools.Hands(\"straight\")\n",
    "three_of_a_kind= stats_tools.Hands(\"three of a kind\")\n",
    "two_pair = stats_tools.Hands(\"two pair\")\n",
    "one_pair = stats_tools.Hands(\"one pair\")"
   ]
  },
  {
   "cell_type": "code",
   "execution_count": 17,
   "id": "04686c6a-5c8b-489a-966c-6e5d7c7b0b7d",
   "metadata": {},
   "outputs": [],
   "source": [
    "known_cards = main_player.cards + community_pot\n",
    "\n",
    "unknown_cards = deck.cards + [card for player in players if player.player_id != 1 for card in player.cards]\n",
    "\n",
    "total_river_combinations = len(unknown_cards)"
   ]
  },
  {
   "cell_type": "code",
   "execution_count": 18,
   "id": "4060eedc-7a1f-421b-a053-7131a51acc41",
   "metadata": {},
   "outputs": [],
   "source": [
    "stats_tools.post_turn_hand_count(unknown_cards, known_cards,flush, straight_flush, four_of_a_kind, full_house, \n",
    "                                 straight, three_of_a_kind, two_pair, one_pair)"
   ]
  },
  {
   "cell_type": "code",
   "execution_count": 19,
   "id": "f9416dc1-fc3a-4bd9-b89a-801002cf4944",
   "metadata": {},
   "outputs": [
    {
     "name": "stdout",
     "output_type": "stream",
     "text": [
      "Player 1 cards: (club, 11), (heart, 4)\n",
      "\n",
      "Player 2 cards: (heart, 6), (club, 8)\n",
      "\n",
      "Player 3 cards: (diamond, 13), (spade, 13)\n",
      "\n",
      "Community pot cards: [('club', 10), ('diamond', 3), ('club', 2), ('heart', 11)] \n",
      "\n",
      "flush count:0, flush odds:0.00% \n",
      "\n",
      "straight flush count:0, straight flush odds:0.00% \n",
      "\n",
      "four of a kind count:0, four of a kind odds:0.00% \n",
      "\n",
      "full house count:0, full house odds:0.00% \n",
      "\n",
      "straight count:0, straight odds:0.00% \n",
      "\n",
      "three of a kind count:2, three of a kind odds:4.35% \n",
      "\n",
      "two pair count:12, two pair odds:26.09% \n",
      "\n",
      "one pair count:46, one pair odds:100.00% \n",
      "\n"
     ]
    }
   ],
   "source": [
    "for player in players:\n",
    "   print(f\"Player {player.player_id} cards: {', '.join([f'({card.suit}, {card.value})' for card in player.cards])}\\n\")\n",
    "\n",
    "# Display the community pot\n",
    "print(\"Community pot cards:\", [(card.suit, card.value) for card in community_pot],\"\\n\")\n",
    "\n",
    "flush.hand_odds(total_river_combinations)\n",
    "straight_flush.hand_odds(total_river_combinations)\n",
    "four_of_a_kind.hand_odds(total_river_combinations)\n",
    "full_house.hand_odds(total_river_combinations)\n",
    "straight.hand_odds(total_river_combinations)\n",
    "three_of_a_kind.hand_odds(total_river_combinations)\n",
    "two_pair.hand_odds(total_river_combinations)\n",
    "one_pair.hand_odds(total_river_combinations)"
   ]
  },
  {
   "cell_type": "code",
   "execution_count": null,
   "id": "52496650-d94b-4e4e-8f54-c82daa6da520",
   "metadata": {},
   "outputs": [],
   "source": []
  },
  {
   "cell_type": "code",
   "execution_count": null,
   "id": "b204425a-626b-4f85-a0f6-ba688ba60dae",
   "metadata": {},
   "outputs": [],
   "source": []
  },
  {
   "cell_type": "code",
   "execution_count": null,
   "id": "97ca7541-8eae-4191-9990-6b85706c47bd",
   "metadata": {},
   "outputs": [],
   "source": []
  }
 ],
 "metadata": {
  "kernelspec": {
   "display_name": "Python 3 (ipykernel)",
   "language": "python",
   "name": "python3"
  },
  "language_info": {
   "codemirror_mode": {
    "name": "ipython",
    "version": 3
   },
   "file_extension": ".py",
   "mimetype": "text/x-python",
   "name": "python",
   "nbconvert_exporter": "python",
   "pygments_lexer": "ipython3",
   "version": "3.10.7"
  }
 },
 "nbformat": 4,
 "nbformat_minor": 5
}
